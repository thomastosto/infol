{
  "nbformat": 4,
  "nbformat_minor": 0,
  "metadata": {
    "colab": {
      "provenance": [],
      "authorship_tag": "ABX9TyMBcSLCtPqrW0FcxruFfzS7",
      "include_colab_link": true
    },
    "kernelspec": {
      "name": "python3",
      "display_name": "Python 3"
    },
    "language_info": {
      "name": "python"
    }
  },
  "cells": [
    {
      "cell_type": "markdown",
      "metadata": {
        "id": "view-in-github",
        "colab_type": "text"
      },
      "source": [
        "<a href=\"https://colab.research.google.com/github/thomastosto/infol/blob/main/Untitled0.ipynb\" target=\"_parent\"><img src=\"https://colab.research.google.com/assets/colab-badge.svg\" alt=\"Open In Colab\"/></a>"
      ]
    },
    {
      "cell_type": "code",
      "source": [
        "import random\n",
        "modalites=(\"Voiture\",\"Moto\",\"Velo\",\"transport en commun\",\"trottinette\",\"A pied\")\n",
        "N=100\n",
        "echantillon=random.choices(modalites,weights=[1,4,5,6,1,3])\n",
        "stat={} #set\n",
        "for elem in modalites:\n",
        "  stat[elem]=[]\n",
        "for elem in stat.keys():\n",
        "  stat[elem].append(echantillon.count(elem))\n",
        "  stat[elem].append(stat[elem][0]/N)\n",
        "  stat[]"
      ],
      "metadata": {
        "id": "2rvYuYCTbNd9"
      },
      "execution_count": null,
      "outputs": []
    }
  ]
}